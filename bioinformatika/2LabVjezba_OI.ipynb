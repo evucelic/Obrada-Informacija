{
 "cells": [
  {
   "cell_type": "markdown",
   "metadata": {
    "id": "3T-0ApV462gi"
   },
   "source": [
    "# Obrada informacija\n",
    "\n",
    "## Laboratorijska vježba 2\n",
    "\n",
    "U ovoj vježbi upoznat ćete se s jednom primjenom tehnika obrade informacija u bioinformatici. Ova laboratorijska vježba nosi 4 boda. Izvješće s ove laboratorijske vježbe potrebno je predati u .pdf formatu na *Moodle*. Izvješće koje predajete se mora zvati *PrezimeIme.pdf*. \n",
    "\n",
    "Osim biblioteka za rad s Fourierovom transformacijom (koristit ćemo samo numpy) koristit ćemo i biblioteku biopython koja sadrži puno korisnih alata iz područja bioinformatike. Mi ćemo je koristiti za jednostavnije baratanje bioinformatičkim tipovima podataka.\n",
    "\n",
    "Biblioteka biopython dolazi s instalacijom Anaconde, ali ju je potrebno uključiti u okolinu (*environment*) koja se koristi.\n",
    "\n",
    "Ako vježbu izvodite u Google Colab okruženju, morate instalirati biblioteku biopython. Instalaciju je potrebno izvršiti u sklopu prvog zadatka ove laboratorijske vježbe. Instalaciju izvodite sljedećim kodom: \n",
    "\n",
    "    try:\n",
    "      import google.colab\n",
    "      !pip install biopython\n",
    "    except ImportError:\n",
    "      pass\n",
    "\n",
    "Nakon izvođenja ovog koda, možete učitati biopython biblioteku. "
   ]
  },
  {
   "cell_type": "markdown",
   "metadata": {
    "id": "sDnAktLV62gk"
   },
   "source": [
    "1. Zadatak\n",
    "\n",
    "Python biblioteke potrebne za laboratorijske vježbe su numpy i biopython. Uključite ih (\"importirajte\") i ispišite verziju svake od njih pomoću \\[ime_biblioteke\\].__version__.\n",
    "\n",
    "UPUTA: Osnovna biopython biblioteka ima naziv Bio."
   ]
  },
  {
   "cell_type": "code",
   "execution_count": 2,
   "metadata": {
    "id": "zr1maIcq62gm"
   },
   "outputs": [
    {
     "name": "stdout",
     "output_type": "stream",
     "text": [
      "1.84\n",
      "2.0.2\n"
     ]
    }
   ],
   "source": [
    "import numpy as np\n",
    "import Bio as bio\n",
    "from Bio.SeqIO import parse\n",
    "\n",
    "print(bio.__version__)\n",
    "print(np.__version__)"
   ]
  },
  {
   "cell_type": "markdown",
   "metadata": {
    "id": "B2yvoqWo62gu"
   },
   "source": [
    "2. Zadatak\n",
    "\n",
    "Uz laboratorijske vježbe dobili ste dvije datoteke s podacima. Datoteku koja sadrži referentni genom jednog soja bakterije  Escherichia coli (escherichia_coli_reference.fasta) u FASTA formatu i datoteku koja sadrži skup očitanja dobivenih sekvenciranjem (ecoli_ILL_small.fastq) u FASTQ formatu.\n",
    "\n",
    "Datoteke možete učitati koristeći metodu _parse()_ iz biblioteke Bio.SeqIO. Metoda _parse()_ vraća iterator koji možete pretvoriti u Python listu na sljedeći način:\n",
    "\n",
    "    reads = list(parse(\"ime_datoteke\", \"tip_datoteke\"))\n",
    "\n",
    "Tip datoteke postavite na \"fasta\" ili \"fastq\".\n",
    "\n",
    "Učitajte obje datoteke te ispišite broj zapisa u svakoj od njih (broj elemenata u listi). Datoteka koja sadrži referencu trebala bi imati samo jedan zapis, dok bi datoteka s očitanjima trebala sadržavati veći broj zapisa.\n",
    "\n",
    "NAPOMENA: Ako niste sigurni kako pronaći datoteke na disku iz Jupyter notebook-a, uvijek možete provjeriti radni direktorij sljedećim naredbama:\n",
    "\n",
    "    import os\n",
    "    os.getcwd()\n",
    "\n",
    "i promijeniti ga sa:\n",
    "\n",
    "    os.chdir()\n",
    "\n",
    "Ako pak radite u Google Colab okruženju, koristite upute za učitavanje datoteka s Google diska iz prve laboratorijske vježbe. "
   ]
  },
  {
   "cell_type": "code",
   "execution_count": 3,
   "metadata": {
    "id": "-ntxEv0M62gv"
   },
   "outputs": [
    {
     "name": "stdout",
     "output_type": "stream",
     "text": [
      "1\n",
      "38585\n"
     ]
    }
   ],
   "source": [
    "ref_genom = list(parse(\"escherichia_coli_reference.fasta\", \"fasta\"))\n",
    "seq = list(parse(\"ecoli_ILL_small.fastq\", \"fastq\"))\n",
    "\n",
    "print(len(ref_genom))\n",
    "print(len(seq))\n"
   ]
  },
  {
   "cell_type": "markdown",
   "metadata": {
    "id": "szNf-DeN62g1"
   },
   "source": [
    "3. Zadatak\n",
    "\n",
    "Svaki zapis koji ste učitali pomoću metode _Bio.SeqIO.parse()_ sadrži Veći broj podataka od kojih su nam bitni samo neki. Naredbom print ispišite cijeli prvi zapis iz datoteke s očitanjima i iz datoteke s referencom.\n",
    "\n",
    "Vidjet ćete da oba zapisa (među ostalim podacima) sadrže identifikator zapisa i sekvencu. Identifikator zapisa možete dohvatiti pomoću\n",
    "\n",
    "    zapis.id\n",
    "\n",
    "dok sekvencu možete dohvatiti pomoću\n",
    "\n",
    "    zapis.seq\n",
    "\n",
    "Ispišite identifikator i sekvencu za prvo očitanje te identifikator i prvih 200 znakova za referentni genom E.coli.\n",
    "\n",
    "NAPOMENA: Referentni genom Escherichia coli je dugačak oko 4.5 milijuna slova"
   ]
  },
  {
   "cell_type": "code",
   "execution_count": 4,
   "metadata": {
    "id": "uJhYsfdg62g2"
   },
   "outputs": [
    {
     "name": "stdout",
     "output_type": "stream",
     "text": [
      "Referentni genom\n",
      "\n",
      "ID: NC_000913.3\n",
      "Name: NC_000913.3\n",
      "Description: NC_000913.3 Escherichia coli str. K-12 substr. MG1655, complete genome\n",
      "Number of features: 0\n",
      "Seq('AGCTTTTCATTCTGACTGCAACGGGCAATATGTCTCTGTGTGGATTAAAAAAAG...TTC')\n",
      "\n",
      "identifikator: NC_000913.3\n",
      "sekvenca (prvih 200 znakova): AGCTTTTCATTCTGACTGCAACGGGCAATATGTCTCTGTGTGGATTAAAAAAAGAGTGTCTGATAGCAGCTTCTGAACTGGTTACCTGCCGTGAGTAAATTAAAATTTTATTGACTTAGGTCACTAAATACTTTAACCAATATAGGCATAGCGCACAGACAGATAAAAATTACAGAGTACACAACATCCATGAAACGCAT\n",
      "------------------------------------------\n",
      "Prvo očitanje\n",
      "\n",
      "ID: SRR2052522.671\n",
      "Name: SRR2052522.671\n",
      "Description: SRR2052522.671 HWI-EAS390_0001:4:1:6915:1123/1\n",
      "Number of features: 0\n",
      "Per letter annotation for: phred_quality\n",
      "Seq('GATCTGGTGACCGGGTCGCGCAAAGTGATCATCGCCATGGAACATTGCGCCAAA...TGC')\n",
      "\n",
      "identifikator: SRR2052522.671\n",
      "sekvenca: GATCTGGTGACCGGGTCGCGCAAAGTGATCATCGCCATGGAACATTGCGCCAAAGATGGTTCAGCAAAAATTTTGGGCCTCTGTATCATGCCACTCACTGCGCAATATCCGGATCAAATGC\n"
     ]
    }
   ],
   "source": [
    "print(\"Referentni genom\\n\")\n",
    "print(ref_genom[0])\n",
    "print()\n",
    "print(f\"identifikator: {ref_genom[0].id}\")\n",
    "print(f\"sekvenca (prvih 200 znakova): {ref_genom[0].seq[:200]}\")\n",
    "print(\"------------------------------------------\")\n",
    "print(\"Prvo očitanje\\n\")\n",
    "print(seq[0])\n",
    "print()\n",
    "print(f\"identifikator: {seq[0].id}\")\n",
    "print(f\"sekvenca: {seq[0].seq}\")"
   ]
  },
  {
   "cell_type": "markdown",
   "metadata": {
    "id": "rGr9V2i262g8"
   },
   "source": [
    "4. Zadatak\n",
    "\n",
    "Da bismo sekvence DNA analizirali metodama obrade signala, moramo pojednim nukleotidima (slovima) dodijeliti brojčane vrijednosti. Napišite funkciju u Pythonu koja će primiti slovo koje predstavlja nukleotid i vratiti odgovarajuću brojčanu vrijednost. Vrijednosti dodijelite na sljedeći način:\n",
    "\n",
    "- A =  3\n",
    "- G =  2\n",
    "- C = -2\n",
    "- T = -3\n",
    "\n",
    "DNA sekvence mogu sadržavati i neke druge znakove (npr. 'N' koji označava da taj nuklotid nije poznat), njima dodijelite vrijednost 0. Također se može dogoditi da nukleotidi budu označeni i malim slovima, pa vodite računa da vaša funkcija mora vratiti ispravnu vrijendost i u tom slučaju."
   ]
  },
  {
   "cell_type": "code",
   "execution_count": 5,
   "metadata": {
    "id": "C25vmeTs62g-"
   },
   "outputs": [],
   "source": [
    "lookup_table = {\n",
    "    \"A\" : 3,\n",
    "    \"G\" : 2,\n",
    "    \"C\" : -2,\n",
    "    \"T\" : -3\n",
    "}\n",
    "\n",
    "def replace(dna_sequence):\n",
    "    new_sequence = []\n",
    "    for char in dna_sequence.upper():\n",
    "        if char in lookup_table:\n",
    "            new_sequence.append(lookup_table[char])\n",
    "        else:\n",
    "            new_sequence.append(0)\n",
    "    \n",
    "    return new_sequence\n"
   ]
  },
  {
   "cell_type": "markdown",
   "metadata": {
    "id": "AYPQrVck62hD"
   },
   "source": [
    "5. Zadatak\n",
    "\n",
    "Upotrebite napisanu funkciju da bi od prvog očitanja i od reference kreirali signal. Izračunajte korelaciju pomoću Fourierove transformacije. Zanemarite imaginarne vrijednosti."
   ]
  },
  {
   "cell_type": "code",
   "execution_count": 18,
   "metadata": {
    "id": "7kxDSpto62hF"
   },
   "outputs": [
    {
     "name": "stdout",
     "output_type": "stream",
     "text": [
      "Correlation by FFT:\n",
      "[-0.61538462 -1.84615385 -1.38461538 ... -0.15384615  0.30769231\n",
      " -0.92307692]\n",
      "k=-2324486\n"
     ]
    }
   ],
   "source": [
    "prvo_ocitanje_sekvenca = replace(seq[0].seq)\n",
    "ref_sekvenca = replace(ref_genom[0].seq)\n",
    "\n",
    "len1 = len(prvo_ocitanje_sekvenca)\n",
    "len2 = len(ref_sekvenca)\n",
    "\n",
    "k_arr = range(-len2 + 1, len1)\n",
    "\n",
    "avg = np.average(list(lookup_table.values()))\n",
    "std = np.std(list(lookup_table.values()))\n",
    "\n",
    "x1 = [(x-avg)/std for x in prvo_ocitanje_sekvenca]\n",
    "x2 = [(x-avg)/std for x in ref_sekvenca]\n",
    "\n",
    "padding1 = [0] * (len2 - 1)\n",
    "padding2 = [0] * (len1 - 1)\n",
    "\n",
    "X1 = np.fft.fft(padding1 + x1)\n",
    "X2 = np.fft.fft(x2 + padding2)\n",
    "Cor = np.conjugate(X2) * X1\n",
    "cor = np.fft.ifft(Cor)\n",
    "cor = np.real(cor)\n",
    "\n",
    "k = k_arr[cor.argmax()]\n",
    "\n",
    "print(\"Correlation by FFT:\")\n",
    "print(cor)\n",
    "print(\"k={}\".format(k))"
   ]
  },
  {
   "cell_type": "markdown",
   "metadata": {
    "id": "nftB8Mj062hK"
   },
   "source": [
    "6. Zadatak\n",
    "\n",
    "Ispišite duljinu reference. Koristeći metode biblioteke _numpy_, izračunajte srednju vrijednost i standardnu devijaciju duljine očitanja (uzmite u obzir sva očitanja).\n",
    "\n",
    "Primijetit ćete da su sva očitanja jednake duljine."
   ]
  },
  {
   "cell_type": "code",
   "execution_count": 19,
   "metadata": {
    "id": "pSI7dEKd62hL"
   },
   "outputs": [
    {
     "name": "stdout",
     "output_type": "stream",
     "text": [
      "Duljina reference: 4641652\n",
      "Srednja vrijednost duljine očitanja: 121.0\n",
      "Vrijednost duljine očitanja jedne sekvence: 121\n",
      "Standardna devijacija duljina očitanja: 0.0\n"
     ]
    }
   ],
   "source": [
    "print(f\"Duljina reference: {len2}\")\n",
    "\n",
    "avg_len = np.average([len(x.seq) for x in seq])\n",
    "std_len = np.std([len(x.seq) for x in seq])\n",
    "print(f\"Srednja vrijednost duljine očitanja: {avg_len}\")\n",
    "print(f\"Vrijednost duljine očitanja jedne sekvence: {len(seq[0].seq)}\")\n",
    "print(f\"Standardna devijacija duljina očitanja: {std_len}\")"
   ]
  },
  {
   "cell_type": "markdown",
   "metadata": {
    "id": "y6A6sHAQ62hS"
   },
   "source": [
    "7. zadatak\n",
    "\n",
    "Što ako želimo izračunati korelaciju za veći broj očitanja i istu referencu? To je tipičan slučaj u bioinformatici jer uređaji za sekvenciranje proizvode tisuće i desetke tisuća očitanja koja se potom mapiraju na istu referencu.\n",
    "\n",
    "Ako korelaciju računamo izravno, potrebno ju je svaki put izračunati iz početka. Ako korelaciju računamo pomoću FFT-a, transformaciju za referencu potrebno je napraviti samo jednom.\n",
    "\n",
    "Izračunajte korelacije za prvih 10 očitanja."
   ]
  },
  {
   "cell_type": "code",
   "execution_count": 8,
   "metadata": {
    "id": "F8mSvUQb62hT"
   },
   "outputs": [],
   "source": [
    "# Ovo je mjesto na kojem možete izvoditi svoj kod. "
   ]
  },
  {
   "cell_type": "markdown",
   "metadata": {
    "id": "y4Cme55c62hb"
   },
   "source": [
    "8. zadatak\n",
    "\n",
    "Na temelju najveće vrijednosti korelacije između reference i prvog očitanja pronađite poziciju na referenci koja je najsličnija očitanju. Pozicija odgovara vrijednosti parametra k za koji je korelacija najveća.\n",
    "\n",
    "Napišite metodu koja će primiti dva niza znakova jednake duljine, usporediti znakove na istim pozicijama i vratiti broj razlika (Hammingova udaljenost).\n",
    "\n",
    "\"Izrežite\" dio reference koji je najsličniji očitanju (iste duljine kao i očitanje) i usporedite ga s očitanjem pomoću napisane funkcije."
   ]
  },
  {
   "cell_type": "code",
   "execution_count": 9,
   "metadata": {
    "id": "Yu0fsZUt62hc"
   },
   "outputs": [],
   "source": [
    "# Ovo je mjesto na kojem možete izvoditi svoj kod. "
   ]
  },
  {
   "cell_type": "markdown",
   "metadata": {
    "id": "k7Ne7pfy62hh"
   },
   "source": [
    "9. zadatak\n",
    "\n",
    "U datoteci \"ecoli_ILL_small_aln.sam\" dana su već izračunata poravnanja svih očitanja na referencu u SAM formatu. SAM je tekstualni \"tab separated\" format. U prvom stupcu se nalati identifikator očitanja, dok se u četvrtom stupcu nalazi pozicija na referenci na koju je očitanje najbolje poravnato (ostali stupci nas ne zanimaju). Također, datoteka s poravnanjima sadrži i nekoliko _header_ readaka kojima prvi stupac počinje sa znakom '@', njih također možete zanemariti.\n",
    "\n",
    "Otvorite datoteku s poravnanjima i pronađite poravnanje za prvo očitanje (identifikator očitanja u datoteci s očitanjima i datoteci s poravnanjima mora biti jednak). Usporedite poziciju u datoteci sa pozicijom koju ste dobili pomoću korelacije.\n",
    "\n",
    "UPOUTA: TSV datoteke možete otvoriti na sljedeći način:\n",
    "\n",
    "    tsv_file = open(\"file_name\")\n",
    "    tsv_rows = csv.reader(tsv_file, delimiter=\"\\t\")\n",
    "\n",
    "Varijabla _tsv\\_rows_ će sadržavati listu redaka, a svaki redak biti lista vrijednosti (po jedna za svaki stupac)."
   ]
  },
  {
   "cell_type": "code",
   "execution_count": 10,
   "metadata": {
    "id": "s4dMPoJR62hi",
    "scrolled": true
   },
   "outputs": [],
   "source": [
    "# Ovo je mjesto na kojem možete izvoditi svoj kod. "
   ]
  },
  {
   "cell_type": "markdown",
   "metadata": {
    "id": "fdVXO79s62ho"
   },
   "source": [
    "10. zadatak\n",
    "\n",
    "Za prvo očitanje pozicija dobivena pomoću korelacije trabala bi biti 2324486, dok je pozicija u datoteci s poravnanjima 2324487. Razlikuju se samo za 1 pa možemo zaključiti da nam je korelacija dala dobru poziciju za poravnanje.\n",
    "\n",
    "Prisjetimo se da korelacija ne računa točno poravnanje već ju koristimo samo da bi našli kandidatne pozicije za točno računanje. Tek onda na takvim pozicijama možemo točno poravnanje izračunati pomoću algoritama dinamičkog programiranja. Ako bi primijenili dinamičko programiranje za računanje poravnanja očitanja s cijelom referencom, postupak bi bio znatno sporiji i zahtijevao bi veliku količinu radne memorije.\n",
    "\n",
    "**Ako želite** to možete isprobati pomoću algoritama za poravnanje u biblioteci _bioparser_. Lokalno poravnanje možete izračunati na sljedeći način:\n",
    "\n",
    "    from Bio import Align\n",
    "    aligner = Align.PairwiseAligner()\n",
    "    aligner.mode = \"local\"\n",
    "    alignments = aligner.align(reference[0].seq[pos-20:pos+len(read_sig)+20], reads[1].seq)\n",
    "\n",
    "Za **drugu** skupinu od 100 očitanja (101. - 200.) izračunajte korelaciju te pomoću korelacije poziciju najveće sličnosti očitanja i reference. Usporedite rezultat sa podacima u datoteci s poravnanjima. Ispišite broj očitanja za koja se dvije pozicije razlikuju za najviše 5 mjesta."
   ]
  },
  {
   "cell_type": "code",
   "execution_count": 11,
   "metadata": {
    "id": "g-f-TyxR62hp"
   },
   "outputs": [],
   "source": [
    "# Ovo je mjesto na kojem možete izvoditi svoj kod. "
   ]
  },
  {
   "cell_type": "markdown",
   "metadata": {
    "id": "wgHiDpSh62hv"
   },
   "source": [
    "11. zadatak\n",
    "\n",
    "Očekivani broj točno pozicioniranih očitanja je otprilike 50, jer smo za sada uspješno radili samo s očitanjima na jednom lancu DNA.\n",
    "\n",
    "Odaberite jedno očitanje koje NIJE uspješno pozicionirano. Ono bi se trebalo nalaziti na drugom (reverzno-kompleentarnom) DNA lancu. Napravite reverzni komplement odabranog očitanja. Možete koristiti metodu reverse_complement klase Seq.\n",
    "\n",
    "    rc_seq = seq.reverse_complement()\n",
    "\n",
    "Izračunajte pomoću korelacije poziciju poravnanja za reverzno komplementarno očitanje, te je usporedite s pozicijom iz datoteke. Sada bi se trebale poklapati!"
   ]
  },
  {
   "cell_type": "code",
   "execution_count": null,
   "metadata": {},
   "outputs": [],
   "source": []
  },
  {
   "cell_type": "markdown",
   "metadata": {},
   "source": [
    "12. ZAKLJUČAK\n",
    "\n",
    "\n",
    "\n",
    "Prolaskom kroz zadatke u ovoj vježbi dobili ste kratak uvod u rad s bioinformatičkim podacima i tehnikama obrade signala."
   ]
  }
 ],
 "metadata": {
  "colab": {
   "collapsed_sections": [],
   "name": "2LabVjezba_OI.ipynb",
   "provenance": []
  },
  "kernelspec": {
   "display_name": "obrinf_v2",
   "language": "python",
   "name": "python3"
  },
  "language_info": {
   "codemirror_mode": {
    "name": "ipython",
    "version": 3
   },
   "file_extension": ".py",
   "mimetype": "text/x-python",
   "name": "python",
   "nbconvert_exporter": "python",
   "pygments_lexer": "ipython3",
   "version": "3.9.20"
  }
 },
 "nbformat": 4,
 "nbformat_minor": 0
}
