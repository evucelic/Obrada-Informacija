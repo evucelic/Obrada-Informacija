{
  "cells": [
    {
      "cell_type": "markdown",
      "metadata": {
        "id": "sQDhjFbIrhoS"
      },
      "source": [
        "**Obrada informacija**: Prva laboratorijska vježba"
      ]
    },
    {
      "cell_type": "markdown",
      "metadata": {
        "id": "zsrcQP6Ert0H"
      },
      "source": [
        "Rijeke imaju veliki gospodarski značaj, od termoelektrana i nuklearnih elektrana kojima su rijeke nužne za rad, javne vodoopskrbe do poljoprivrede i transporta. Premda ljudi danas uvelike upravljaju vodotocima, uslijed vremenskih prilika ipak može doći do poplava, erozija tla i sličnih prirodnih nepogoda. Kako bismo se mogli na vrijeme pripremiti za potencijalne probleme, potrebno je istražiti ponašanje rijeka na temelju višegodišnjih praćenja vodostaja. U ovoj laboratorijskoj vježbi ćete analizirati vodostaje rijeke Save kroz period od 25 godina.\n",
        "\n",
        "Unutar komprimiranog direktorija u kojem se nalazi ova bilježnica, nalazi se i .mat datoteka s podacima o vodostaju rijeke Save u periodu od 1.1.1982. do 31.12.2007. Svaki podatak označava jedan dan mjerenja vodostaja. \n",
        "\n",
        "Vježba se izvodi u Pythonu/Google Colabu, a sve naredbe potrebne za provedbu vježbe te njihova objašnjenja dana su u predavanju. Ova laboratorijska vježba nosi 3 boda. \n",
        "\n",
        "Kad ste gotovi s vježbom, na *Moodle* postavite .pdf izvješće s vježbe (.pdf izvješće možete generirati s naredbom File-Print-Location: PDF). "
      ]
    },
    {
      "cell_type": "markdown",
      "metadata": {
        "id": "x4J_VQ7IsAVP"
      },
      "source": [
        "**1.**\tUčitajte biblioteke: NumPy, matplotlib.pyplot, scipy.fft, signal iz scipy te pywt."
      ]
    },
    {
      "cell_type": "code",
      "execution_count": 1,
      "metadata": {
        "id": "qiX4GFK3sE8i"
      },
      "outputs": [],
      "source": [
        "import numpy as np\n",
        "import matplotlib.pyplot as plt\n",
        "from scipy.fft import fft\n",
        "from scipy import signal\n",
        "import pywt"
      ]
    },
    {
      "cell_type": "markdown",
      "metadata": {
        "id": "JxtULT99sM2R"
      },
      "source": [
        "**2.**\tUčitajte podatke o vodostaju iz .mat datoteke koja se nalazi unutar istog komprimiranog direktorija. Učitani podaci su spremljeni u rječnik. Izdvojite ključ i pripadne podatke o vodostajima te po potrebi smanjite dimenziju.\n",
        "\n",
        "Savjet: .mat datoteku učitajte sa svog Google Drivea (unutar mape Colab Notebooks na svom Google Driveu postavite .mat datoteku). Ostali savjeti nalaze se u sljedećem programskom odsječku. "
      ]
    },
    {
      "cell_type": "code",
      "execution_count": 2,
      "metadata": {
        "id": "zYzChRsUyMK1"
      },
      "outputs": [
        {
          "name": "stdout",
          "output_type": "stream",
          "text": [
            "{'__header__': b'MATLAB 5.0 MAT-file, Platform: MACI64, Created on: Sat Oct 10 13:46:29 2020', '__version__': '1.0', '__globals__': [], 'kobas': array([[661],\n",
            "       [674],\n",
            "       [685],\n",
            "       ...,\n",
            "       [242],\n",
            "       [230],\n",
            "       [228]], dtype=uint16)}\n"
          ]
        }
      ],
      "source": [
        "from scipy import io\n",
        "kobas_iz_matlaba=io.loadmat(\"3_OIkobas.mat\")\n",
        "print(kobas_iz_matlaba)"
      ]
    },
    {
      "cell_type": "markdown",
      "metadata": {
        "id": "6sV18jFosYJQ"
      },
      "source": [
        "**3.**\tIspišite: broj dana za koje postoje podaci o vodostajima, srednju vrijednost vodostaja, standardnu devijaciju, minimalnu vrijednost, maksimalnu vrijednost te median."
      ]
    },
    {
      "cell_type": "code",
      "execution_count": 13,
      "metadata": {
        "id": "SjnKD-3Fsb4i"
      },
      "outputs": [
        {
          "name": "stdout",
          "output_type": "stream",
          "text": [
            "Broj dana: 9496\n",
            "Srednja vrijednost vodostaja: 294.25758213984835\n",
            "Standardna devijacija vodostaja: 183.09167165945507\n",
            "Minimalna vrijednost vodostaja: 17\n",
            "Maksimalna vrijednost vodostaja: 878\n",
            "Medijan vodostaja: 255.0\n"
          ]
        }
      ],
      "source": [
        "broj_dana = kobas_iz_matlaba['kobas'].size # kobas je tipa numpy.ndarray\n",
        "print(f\"Broj dana: {broj_dana}\")\n",
        "\n",
        "srednja_vrijednost_vodostaja = kobas_iz_matlaba['kobas'].mean()\n",
        "print(f\"Srednja vrijednost vodostaja: {srednja_vrijednost_vodostaja}\")\n",
        "\n",
        "std_vodostaja = kobas_iz_matlaba['kobas'].std()\n",
        "print(f\"Standardna devijacija vodostaja: {std_vodostaja}\")\n",
        "\n",
        "min_vodostaja = kobas_iz_matlaba['kobas'].min()\n",
        "print(f\"Minimalna vrijednost vodostaja: {min_vodostaja}\")\n",
        "\n",
        "max_vodostaja = kobas_iz_matlaba['kobas'].max()\n",
        "print(f\"Maksimalna vrijednost vodostaja: {max_vodostaja}\")\n",
        "\n",
        "medijan_vodostaja = np.median(kobas_iz_matlaba['kobas'])\n",
        "print(f\"Medijan vodostaja: {medijan_vodostaja}\")\n"
      ]
    },
    {
      "cell_type": "markdown",
      "metadata": {
        "id": "ZIiefntfsdRx"
      },
      "source": [
        "**4.** Nacrtajte vodostaj. Obilježite x i y os te naslov slike. "
      ]
    },
    {
      "cell_type": "code",
      "execution_count": null,
      "metadata": {
        "id": "rburqSResg1r"
      },
      "outputs": [],
      "source": [
        "# Ovo je mjesto na kojem možete izvoditi svoj kod. "
      ]
    },
    {
      "cell_type": "markdown",
      "metadata": {
        "id": "tA1XQ-Cfsiyg"
      },
      "source": [
        "**5.**\tIzračunajte diskretnu Fourierovu transformaciju zadanog vodostaja. Ispišite dobivene vrijednosti. Nacrtajte apsolutnu vrijednost dobivenih koeficijenata."
      ]
    },
    {
      "cell_type": "code",
      "execution_count": null,
      "metadata": {
        "id": "FLm7O1QTspvH"
      },
      "outputs": [],
      "source": [
        "# Ovo je mjesto na kojem možete izvoditi svoj kod. "
      ]
    },
    {
      "cell_type": "markdown",
      "metadata": {
        "id": "mwPKgFGZs1UD"
      },
      "source": [
        "**6.**\tIzračunajte Fourierovu transformaciju na vremenskom otvoru zadanog vodostaja koristeći pravokutni otvor širine 2 godine. Prikažite rezultat pomoću pcolormesh. Odgovorite: koje frekvencije su vidljive u vodostaju? Koje godine se javljaju?"
      ]
    },
    {
      "cell_type": "code",
      "execution_count": null,
      "metadata": {
        "id": "E9Yolh4ls5PG"
      },
      "outputs": [],
      "source": [
        "# Ovo je mjesto na kojem možete izvoditi svoj kod. "
      ]
    },
    {
      "cell_type": "markdown",
      "metadata": {
        "id": "iqOGgM9_tZqs"
      },
      "source": [
        "ODGOVOR: *Ovo je mjesto za odgovor na pitanja iz 6. zadatka.*"
      ]
    },
    {
      "cell_type": "markdown",
      "metadata": {
        "id": "Q11MlmPfs6mw"
      },
      "source": [
        "**7.**\tUpotrijebite drugu širinu otvora (po izboru) i ponovite prethodni zadatak. Ispišite koju širinu ste upotrijebili. Objasnite razlike u dobivenim slikama."
      ]
    },
    {
      "cell_type": "code",
      "execution_count": null,
      "metadata": {
        "id": "q5sXhzvas92w"
      },
      "outputs": [],
      "source": [
        "# Ovo je mjesto na kojem možete izvoditi svoj kod. "
      ]
    },
    {
      "cell_type": "markdown",
      "metadata": {
        "id": "ke2eRlnftjOq"
      },
      "source": [
        "ODGOVOR: *Ovo je mjesto za odgovor na pitanje iz 7. zadatka.*"
      ]
    },
    {
      "cell_type": "markdown",
      "metadata": {
        "id": "M_z5z8Ijs_O5"
      },
      "source": [
        "**8.**\tIspišite sve obitelji kontinuiranih valića koje se nalaze u PyWavelets biblioteci. Na istoj slici, koristeći subplot naredbu, nacrtajte dvije valićne funkcije po izboru. U naslovu svake slike napišite o kojim valićima se radi."
      ]
    },
    {
      "cell_type": "code",
      "execution_count": null,
      "metadata": {
        "id": "zsugVk0stDLs"
      },
      "outputs": [],
      "source": [
        "# Ovo je mjesto na kojem možete izvoditi svoj kod. "
      ]
    },
    {
      "cell_type": "markdown",
      "metadata": {
        "id": "11DFQvCHtEua"
      },
      "source": [
        "**9.**\tKoristeći Morlet valić, odredite kontinuiranu valićnu transformaciju zadanog vodostaja. Nacrtajte apsolutnu vrijednost dobivenih koeficijenata. Odgovorite: koje frekvencije su vidljive u vodostaju? Koje godine se javljaju?"
      ]
    },
    {
      "cell_type": "code",
      "execution_count": null,
      "metadata": {
        "id": "Fl6MQxE7tMDP"
      },
      "outputs": [],
      "source": [
        "# Ovo je mjesto na kojem možete izvoditi svoj kod. "
      ]
    },
    {
      "cell_type": "markdown",
      "metadata": {
        "id": "3WlbMIoNtoYf"
      },
      "source": [
        "ODGOVOR: *Ovo je mjesto za odgovor na pitanja iz 9. zadatka.*"
      ]
    },
    {
      "cell_type": "markdown",
      "metadata": {
        "id": "azZ8SezLtJnN"
      },
      "source": [
        "**10.**\tOdgovorite: objasnite razliku u dobivenim rezultatima STFT i CWT."
      ]
    },
    {
      "cell_type": "markdown",
      "metadata": {
        "id": "x3mnyxWLtuZj"
      },
      "source": [
        "ODGOVOR: *Ovo je mjesto za odgovor na pitanje iz 10. zadatka.*"
      ]
    }
  ],
  "metadata": {
    "colab": {
      "collapsed_sections": [],
      "name": "PrvaLabVjezba_OI.ipynb",
      "provenance": []
    },
    "kernelspec": {
      "display_name": "obrinf",
      "language": "python",
      "name": "python3"
    },
    "language_info": {
      "codemirror_mode": {
        "name": "ipython",
        "version": 3
      },
      "file_extension": ".py",
      "mimetype": "text/x-python",
      "name": "python",
      "nbconvert_exporter": "python",
      "pygments_lexer": "ipython3",
      "version": "3.9.19"
    }
  },
  "nbformat": 4,
  "nbformat_minor": 0
}
